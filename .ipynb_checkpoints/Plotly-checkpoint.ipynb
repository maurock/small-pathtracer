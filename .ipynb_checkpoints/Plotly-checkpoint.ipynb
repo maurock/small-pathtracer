{
 "cells": [
  {
   "cell_type": "code",
   "execution_count": 62,
   "metadata": {
    "ExecuteTime": {
     "end_time": "2019-06-09T11:09:10.095366Z",
     "start_time": "2019-06-09T11:09:09.729344Z"
    }
   },
   "outputs": [
    {
     "data": {
      "text/html": [
       "<script>requirejs.config({paths: { 'plotly': ['https://cdn.plot.ly/plotly-latest.min']},});if(!window.Plotly) {{require(['plotly'],function(plotly) {window.Plotly=plotly;});}}</script>"
      ],
      "text/vnd.plotly.v1+html": [
       "<script>requirejs.config({paths: { 'plotly': ['https://cdn.plot.ly/plotly-latest.min']},});if(!window.Plotly) {{require(['plotly'],function(plotly) {window.Plotly=plotly;});}}</script>"
      ]
     },
     "metadata": {},
     "output_type": "display_data"
    },
    {
     "name": "stderr",
     "output_type": "stream",
     "text": [
      "D:\\Anaconda3\\lib\\site-packages\\plotly\\offline\\offline.py:466: UserWarning:\n",
      "\n",
      "Your filename `3d-scatter-colorscale` didn't end with .html. Adding .html to the end of your file.\n",
      "\n"
     ]
    },
    {
     "data": {
      "text/plain": [
       "'file://D:\\\\Documents\\\\eclipse-workspace\\\\SmallPT\\\\3d-scatter-colorscale.html'"
      ]
     },
     "execution_count": 62,
     "metadata": {},
     "output_type": "execute_result"
    }
   ],
   "source": [
    "import plotly\n",
    "import plotly.graph_objs as go\n",
    "import numpy as np\n",
    "from plotly.offline import download_plotlyjs, init_notebook_mode, plot, iplot\n",
    "\n",
    "\n",
    "init_notebook_mode(connected=True)\n",
    "\n",
    "x, y, z = np.random.multivariate_normal(np.array([0,0,0]), np.eye(3), 400).transpose()\n",
    "\n",
    "a = []\n",
    "b = []\n",
    "c = []\n",
    "\n",
    "text_file = open(\"scene_total.txt\", \"r\")\n",
    "lines = text_file.readlines()\n",
    "text_file.close()\n",
    "for i in range(len(lines)):\n",
    "    values = lines[i].replace('\\n','').split(',')\n",
    "    a.append(values[0])\n",
    "    b.append(values[1])\n",
    "    c.append(values[2])\n",
    "    \n",
    "text_file = open(\"light.txt\", \"r\")\n",
    "lines = text_file.readlines()\n",
    "text_file.close()\n",
    "for i in range(len(lines)):\n",
    "    values = lines[i].replace('\\n','').split(',')\n",
    "    a.append(values[0])\n",
    "    b.append(values[1])\n",
    "    c.append(values[2])\n",
    "\n",
    "trace1 = go.Scatter3d(\n",
    "    x=a,\n",
    "    y=b,\n",
    "    z=c,\n",
    "    mode='markers',\n",
    "    marker=dict(\n",
    "        size=2,\n",
    "        color='rgb(149, 149, 149)',                # set color to an array/list of desired values\n",
    "        #colorscale='Viridis',   # choose a colorscale\n",
    "        opacity=0.8\n",
    "    )\n",
    ")\n",
    "\n",
    "trace2 = go.Scatter3d(\n",
    "    x=a,\n",
    "    y=b,\n",
    "    z=c,\n",
    "    mode='markers',\n",
    "    marker=dict(\n",
    "        size=2,\n",
    "        color='rgb(235, 149, 0)',                # set color to an array/list of desired values\n",
    "        #colorscale='Viridis',   # choose a colorscale\n",
    "        opacity=0.8\n",
    "    )\n",
    ")\n",
    "\n",
    "data = [trace1]\n",
    "layout = go.Layout(\n",
    "    margin=dict(\n",
    "        l=0,\n",
    "        r=0,\n",
    "        b=0,\n",
    "        t=0\n",
    "    )\n",
    ")\n",
    "fig = go.Figure(data=data, layout=layout)\n",
    "plotly.offline.plot(fig, filename='3d-scatter-colorscale')"
   ]
  }
 ],
 "metadata": {
  "kernelspec": {
   "display_name": "Python 3",
   "language": "python",
   "name": "python3"
  },
  "language_info": {
   "codemirror_mode": {
    "name": "ipython",
    "version": 3
   },
   "file_extension": ".py",
   "mimetype": "text/x-python",
   "name": "python",
   "nbconvert_exporter": "python",
   "pygments_lexer": "ipython3",
   "version": "3.6.5"
  }
 },
 "nbformat": 4,
 "nbformat_minor": 2
}
