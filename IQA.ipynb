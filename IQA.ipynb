{
 "cells": [
  {
   "cell_type": "code",
   "execution_count": 35,
   "metadata": {
    "ExecuteTime": {
     "end_time": "2019-06-25T15:53:05.601799Z",
     "start_time": "2019-06-25T15:52:59.042829Z"
    }
   },
   "outputs": [
    {
     "name": "stdout",
     "output_type": "stream",
     "text": [
      "IMPORTANCE SAMPLING\n",
      "(0.4276138863657221+0j)\n",
      "0.5440050382833949\n",
      "RANDOM SAMPLING\n"
     ]
    },
    {
     "name": "stderr",
     "output_type": "stream",
     "text": [
      "D:\\Anaconda3\\lib\\site-packages\\skimage\\util\\arraycrop.py:177: FutureWarning: Using a non-tuple sequence for multidimensional indexing is deprecated; use `arr[tuple(seq)]` instead of `arr[seq]`. In the future this will be interpreted as an array index, `arr[np.array(seq)]`, which will result either in an error or a different result.\n",
      "  cropped = ar[slices]\n"
     ]
    },
    {
     "name": "stdout",
     "output_type": "stream",
     "text": [
      "(0.40161307079681235+0j)\n",
      "0.5407509740139942\n",
      "EXPLICIT LIGHT\n",
      "(0.677530872598634+0j)\n",
      "0.5917511561855661\n",
      "Q-VALUE-OLD-UPDATE-STATE5-32spp\n",
      "(0.4815142919599162+0j)\n",
      "0.5598396227298151\n",
      "Q-VALUE-OLD-UPDATE-STATE10-32spp\n",
      "(0.46701939055091574+0j)\n",
      "0.5574928431947461\n",
      "Q-VALUE-OLD-UPDATE-STATE5-16spp-action96\n",
      "(0.4825887562010534+0j)\n",
      "0.5543611574234963\n",
      "Q-VALUE-OLD-UPDATE-STATE5-32spp-action96\n",
      "(0.5294467745354441+0j)\n",
      "0.5656063554948123\n",
      "Q-VALUE-OLD-UPDATE-STATE5-32spp-action72\n",
      "(0.5259277792432737+0j)\n",
      "0.5655758396126966\n",
      "Q-VALUE-OLD-UPDATE-STATE5-32spp-action72-2\n",
      "(0.5515015572470542+0j)\n",
      "0.5709791173915519\n"
     ]
    }
   ],
   "source": [
    "from sewar.full_ref import msssim, uqi, ssim\n",
    "from skimage.measure import compare_ssim as ssim\n",
    "import numpy as np\n",
    "import cv2 \n",
    "img1 = cv2.imread('rect_512spp_explicitsampling_new.jpg',0)\n",
    "img2 = cv2.imread('rect_32spp_importancesampl.jpg',0)\n",
    "img3 = cv2.imread('rect_32spp_randomsampl.jpg',0)\n",
    "img4 = cv2.imread('rect_32spp_explicitlight_new.jpg',0)\n",
    "img5 = cv2.imread('qlearning_16spp_proportional.jpg',0)\n",
    "img6 = cv2.imread('qlearning-16spp-proportional-lr1-newupdate.jpg',0)\n",
    "img7 = cv2.imread('qlearning-16spp-proportional-lr1-newupdate-state5.jpg',0)\n",
    "img8 = cv2.imread('qlearning-16spp-proportional-lr1-oldupdate-state5.jpg',0)\n",
    "img9 = cv2.imread('qlearning-32spp-proportional-lr1-oldupdate-state5.jpg',0)\n",
    "img10 = cv2.imread('qlearning-32spp-proportional-lr1-oldupdate-state10.jpg',0)\n",
    "img11 = cv2.imread('qlearning-16spp-proportional-lr1-oldupdate-state5-action96.jpg',0)\n",
    "img12 = cv2.imread('qlearning-32spp-proportional-lr1-oldupdate-state5-action96.jpg',0)\n",
    "img13 = cv2.imread('qlearning-32spp-proportional-lr1-oldupdate-state5-action72.jpg',0)\n",
    "img14 = cv2.imread('qlearning-32spp-proportional-lr1-oldupdate-state5-action72-2.jpg',0)\n",
    "\n",
    "\n",
    "print('IMPORTANCE SAMPLING')\n",
    "print(msssim(img1,img2))\n",
    "print((1+ssim(img1,img2))/2)\n",
    "print('RANDOM SAMPLING')\n",
    "print(msssim(img1,img3))\n",
    "print((1+ssim(img1,img3))/2)\n",
    "print('EXPLICIT LIGHT')\n",
    "print(msssim(img1,img4))\n",
    "print((1+ssim(img1,img4))/2)\n",
    "\n",
    "print('Q-VALUE-OLD-UPDATE-STATE5-32spp')\n",
    "print(msssim(img1,img9))\n",
    "print((1+ssim(img1,img9))/2)\n",
    "\n",
    "print('Q-VALUE-OLD-UPDATE-STATE10-32spp')\n",
    "print(msssim(img1,img10))\n",
    "print((1+ssim(img1,img10))/2)\n",
    "\n",
    "print('Q-VALUE-OLD-UPDATE-STATE5-16spp-action96')\n",
    "print(msssim(img1,img11))\n",
    "print((1+ssim(img1,img11))/2)\n",
    "\n",
    "print('Q-VALUE-OLD-UPDATE-STATE5-32spp-action96')\n",
    "print(msssim(img1,img12))\n",
    "print((1+ssim(img1,img12))/2)\n",
    "\n",
    "print('Q-VALUE-OLD-UPDATE-STATE5-32spp-action72')\n",
    "print(msssim(img1,img13))\n",
    "print((1+ssim(img1,img13))/2)\n",
    "\n",
    "print('Q-VALUE-OLD-UPDATE-STATE5-32spp-action72-2')\n",
    "print(msssim(img1,img14))\n",
    "print((1+ssim(img1,img14))/2)"
   ]
  },
  {
   "cell_type": "code",
   "execution_count": 37,
   "metadata": {
    "ExecuteTime": {
     "end_time": "2019-07-02T20:28:16.242424Z",
     "start_time": "2019-07-02T20:28:16.201502Z"
    }
   },
   "outputs": [
    {
     "name": "stdout",
     "output_type": "stream",
     "text": [
      "Q-LEARNING\n",
      "1229.4397735595703\n",
      "EXPLICIT LIGHT SAMPLING\n",
      "1145.8162117004395\n"
     ]
    }
   ],
   "source": [
    "from sewar.full_ref import msssim, uqi, ssim, mse\n",
    "from skimage.measure import compare_ssim as ssim\n",
    "import numpy as np\n",
    "import cv2 \n",
    "img1 = cv2.imread('newscene2-512spp-importancesampling.jpg',0)\n",
    "img2 = cv2.imread('newscene2-16spp-qlearning-2.jpg',0)\n",
    "img3 = cv2.imread('newscene2-16spp-explicitlight.jpg',0)\n",
    "\n",
    "print('Q-LEARNING')\n",
    "print(mse(img1,img2))\n",
    "\n",
    "print('EXPLICIT LIGHT SAMPLING')\n",
    "print(mse(img1,img3))"
   ]
  }
 ],
 "metadata": {
  "kernelspec": {
   "display_name": "Python 3",
   "language": "python",
   "name": "python3"
  },
  "language_info": {
   "codemirror_mode": {
    "name": "ipython",
    "version": 3
   },
   "file_extension": ".py",
   "mimetype": "text/x-python",
   "name": "python",
   "nbconvert_exporter": "python",
   "pygments_lexer": "ipython3",
   "version": "3.6.5"
  }
 },
 "nbformat": 4,
 "nbformat_minor": 2
}
