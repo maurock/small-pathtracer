{
 "cells": [
  {
   "cell_type": "code",
   "execution_count": 22,
   "metadata": {
    "ExecuteTime": {
     "end_time": "2019-06-21T12:05:29.837622Z",
     "start_time": "2019-06-21T12:05:26.809716Z"
    }
   },
   "outputs": [
    {
     "name": "stdout",
     "output_type": "stream",
     "text": [
      "IMPORTANCE SAMPLING\n",
      "(0.4276138863657221+0j)\n",
      "0.5440050382833949\n",
      "RANDOM SAMPLING\n"
     ]
    },
    {
     "name": "stderr",
     "output_type": "stream",
     "text": [
      "D:\\Anaconda3\\lib\\site-packages\\skimage\\util\\arraycrop.py:177: FutureWarning: Using a non-tuple sequence for multidimensional indexing is deprecated; use `arr[tuple(seq)]` instead of `arr[seq]`. In the future this will be interpreted as an array index, `arr[np.array(seq)]`, which will result either in an error or a different result.\n",
      "  cropped = ar[slices]\n"
     ]
    },
    {
     "name": "stdout",
     "output_type": "stream",
     "text": [
      "(0.40161307079681235+0j)\n",
      "0.5407509740139942\n",
      "EXPLICIT LIGHT\n",
      "(0.677530872598634+0j)\n",
      "0.5917511561855661\n",
      "Q-VALUE\n",
      "(0.4781698244107282+0j)\n",
      "0.5768499049176219\n"
     ]
    }
   ],
   "source": [
    "from sewar.full_ref import msssim, uqi, ssim\n",
    "from skimage.measure import compare_ssim as ssim\n",
    "import numpy as np\n",
    "import cv2 \n",
    "img1 = cv2.imread('rect_512spp_explicitsampling_new.jpg',0)\n",
    "img2 = cv2.imread('rect_32spp_importancesampl.jpg',0)\n",
    "img3 = cv2.imread('rect_32spp_randomsampl.jpg',0)\n",
    "img4 = cv2.imread('rect_32spp_explicitlight_new.jpg',0)\n",
    "img5 = cv2.imread('qlearning_16spp_proportional.jpg',0)\n",
    "\n",
    "print('IMPORTANCE SAMPLING')\n",
    "print(msssim(img1,img2))\n",
    "print((1+ssim(img1,img2))/2)\n",
    "print('RANDOM SAMPLING')\n",
    "print(msssim(img1,img3))\n",
    "print((1+ssim(img1,img3))/2)\n",
    "print('EXPLICIT LIGHT')\n",
    "print(msssim(img1,img4))\n",
    "print((1+ssim(img1,img4))/2)\n",
    "print('Q-VALUE')\n",
    "print(msssim(img1,img5))\n",
    "print((1+ssim(img1,img5))/2)\n"
   ]
  }
 ],
 "metadata": {
  "kernelspec": {
   "display_name": "Python 3",
   "language": "python",
   "name": "python3"
  },
  "language_info": {
   "codemirror_mode": {
    "name": "ipython",
    "version": 3
   },
   "file_extension": ".py",
   "mimetype": "text/x-python",
   "name": "python",
   "nbconvert_exporter": "python",
   "pygments_lexer": "ipython3",
   "version": "3.6.5"
  }
 },
 "nbformat": 4,
 "nbformat_minor": 2
}
